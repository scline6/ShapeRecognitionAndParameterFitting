{
  "nbformat": 4,
  "nbformat_minor": 0,
  "metadata": {
    "colab": {
      "name": "ShapeRecognitionAndParameterFitting.ipynb",
      "provenance": [],
      "collapsed_sections": [],
      "authorship_tag": "ABX9TyO79eIdu42t8i5h3diUWPVU",
      "include_colab_link": true
    },
    "kernelspec": {
      "name": "python3",
      "display_name": "Python 3"
    },
    "accelerator": "GPU"
  },
  "cells": [
    {
      "cell_type": "markdown",
      "metadata": {
        "id": "view-in-github",
        "colab_type": "text"
      },
      "source": [
        "<a href=\"https://colab.research.google.com/github/scline6/ShapeRecognitionAndParameterFitting/blob/master/ShapeRecognitionAndParameterFitting.ipynb\" target=\"_parent\"><img src=\"https://colab.research.google.com/assets/colab-badge.svg\" alt=\"Open In Colab\"/></a>"
      ]
    },
    {
      "cell_type": "markdown",
      "metadata": {
        "id": "o2MPCOfny2W4",
        "colab_type": "text"
      },
      "source": [
        "OVERVIEW\n",
        "*   I took on the challenge of self-studying deep learning, and this \n",
        "is my first experience. Tensorflow on Colab has been smooth as can be, so that was a pleasant surprise!\n",
        "\n",
        "*   I started out with the MNIST hand-written digits classification tutorial, and had an idea.  What if you could convert 2D or 3D geometric models in triangle mesh, image, or volumetric format into Constructive Solid Geometry (CSG)?  Typical CSG models are made from polygons, ellipses, extrusions, polyhedra, cylinders, ellipsoids, boolean operations, hulls, and Minkowski sums.  If you generated a training dataset consisting of CSG models with their correct labels (per point or pixel for segmentation), maybe you could train a deep learning model to recognize the constituents of the CSG model.  Then you might be able to send in models that were not originally CSG-generated and the deep learning model would reconstruct them as CSG.  It is also possible that the nested structure of boolean operations and hulls might prevent feedforward nets from being able to reverse engineer CSG models.  Recurrent nets might be required.\n",
        "\n",
        "*   To limit the scope to a reasonable start, I wanted to see if deep learning can classify 2D images that each contains a single shape, either a rectangle and ellipse and estimate the original parameters that were used to generate the rectangles and ellipses.  Later, I would like to move on to multiple shapes per image and image segmentation.\n",
        "\n",
        "*   I wrote a simple C++/Qt program that generates rectangles (SHAPE=0) and ellipses (SHAPE=1).  The training set has 50000 images, the test set has 15000 images and the validation set has 5000 images.  The images are 50x50 pixels.  When scaled to the 0-1 range, each pixel has width of 0.02.\n",
        "\n",
        "*   Classification went well with over 99.9% accuracy, and the only issues were very small shapes or rectangles with pixelated corners that are hard even for a human to distinguish from an ellipse.\n",
        "\n",
        "*   The continuous parameters are CENTER_X, CENTER_Y, THETA, MAJOR_DIAM, MINOR_DIAM.  Currently, CENTER_X and CENTER_Y fit very closely to the test data.  MAJOR_DIAM and MINOR_DIAM have a decent fit, but could probably be improved.  The THETA parameter did not fit well because it belongs to the circular group where 0 degrees is the same as 360 degrees.  Replacing THETA with cos(THETA) and sin(THETA) should work better, but I will leave that as a future exercise."
      ]
    },
    {
      "cell_type": "markdown",
      "metadata": {
        "id": "rZ0MpOOugLGF",
        "colab_type": "text"
      },
      "source": [
        "STEP #1: AUTOMATIC GENERATION OF DATASET\n",
        "1. Copy the C++/Qt code to your local machine, then compile and run it code to generate the dataset.  There will be three output folders (shapes-train-images, shapes-test-images & shapes-val-images) and three output files (shapes-train-labels.csv, shapes-test-labels.csv & shapes-val-labels.csv).\n",
        "2. Zip the output folders into .tar.gz files (shapes-train-images.tar.gz, shapes-test-images.tar.gz & shapes-val-images.tar.gz).\n",
        "3. Upload the three .tar.gz files and three .csv *files* to Google Drive."
      ]
    },
    {
      "cell_type": "code",
      "metadata": {
        "id": "gk6GKo4Ogp08",
        "colab_type": "code",
        "colab": {}
      },
      "source": [
        "\"\"\"\n",
        "//main.cpp\n",
        "\n",
        "#include <QCoreApplication>\n",
        "#include <QImage>\n",
        "#include <QPixmap>\n",
        "#include <QPainter>\n",
        "#include <QFile>\n",
        "#include <QFileInfo>\n",
        "#include <QDir>\n",
        "#include <QTextStream>\n",
        "#include <array>\n",
        "#include <cmath>\n",
        "#include <algorithm>\n",
        "#include <stdlib.h>\n",
        "#include <iostream>\n",
        "#include <QDebug>\n",
        "\n",
        "\n",
        "// Generate images of this size\n",
        "const double X_SIZE = 50.0;\n",
        "const double Y_SIZE = 50.0;\n",
        "const double MAX_SIZE = (X_SIZE > Y_SIZE ? X_SIZE : Y_SIZE);    // Used for making sure all of the shape is in the image\n",
        "\n",
        "\n",
        "// Array or CSV column index of each attribute\n",
        "const std::size_t SHAPE      = 0;\n",
        "const std::size_t CENTER_X   = 1;\n",
        "const std::size_t CENTER_Y   = 2;\n",
        "const std::size_t THETA      = 3;\n",
        "const std::size_t MAJOR_DIAM = 4;\n",
        "const std::size_t MINOR_DIAM = 5;\n",
        "const std::size_t TOTAL_NUM_ATTRIBUTES = 6;\n",
        "\n",
        "\n",
        "enum ShapeCategory\n",
        "{\n",
        "    RECTANGLE = 0,\n",
        "    ELLIPSE   = 1,\n",
        "};\n",
        "\n",
        "\n",
        "enum FillType\n",
        "{\n",
        "    SOLID   = 0,\n",
        "    OUTLINE = 1,\n",
        "};\n",
        "\n",
        "\n",
        "int generateShape(QFile& csvFile, QDir& imageDir,\n",
        "                  const int& index, const ShapeCategory& shape,\n",
        "                  const double& x, const double& y, const double& theta,\n",
        "                  const double& major, const double& minor,\n",
        "                  const FillType& fillType, const int& lineWidth)\n",
        "{\n",
        "    // Use QPainter and QImage to make rectangle and ellipse images\n",
        "    QImage image(X_SIZE, Y_SIZE, QImage::Format_Mono);\n",
        "    image.fill(0);\n",
        "    QPainter painter;\n",
        "    painter.begin(&image);\n",
        "    if (fillType == FillType::SOLID)\n",
        "    {\n",
        "        painter.setBrush( QBrush(Qt::white, Qt::BrushStyle::SolidPattern) );\n",
        "        painter.setPen( QPen(Qt::white, 0, Qt::NoPen) );\n",
        "    }\n",
        "    else if (fillType == FillType::OUTLINE) {\n",
        "        painter.setBrush( QBrush(Qt::white, Qt::BrushStyle::NoBrush) );\n",
        "        painter.setPen( QPen(Qt::white, lineWidth, Qt::SolidLine) );\n",
        "    }\n",
        "    painter.translate( QPointF(x, y) );\n",
        "    painter.rotate(theta);\n",
        "    if (shape == ShapeCategory::RECTANGLE)\n",
        "    {\n",
        "        painter.drawRect( QRectF(-0.5*major, -0.5*minor, major, minor) );\n",
        "    }\n",
        "    else if (shape == ShapeCategory::ELLIPSE)\n",
        "    {\n",
        "        painter.drawEllipse( QRectF(-0.5*major, -0.5*minor, major, minor) );\n",
        "    }\n",
        "    painter.end();\n",
        "\n",
        "    // Save the image file into the image path\n",
        "    const QString fileName = imageDir.filePath(\"image\" + QString::number(index) + \".png\");\n",
        "    int result = image.save(fileName);\n",
        "\n",
        "    // Write out one-hot categories and shape parameters to a row in the csv file\n",
        "    QTextStream csvStream(&csvFile);\n",
        "    std::array<double,TOTAL_NUM_ATTRIBUTES> attribute;\n",
        "    attribute[SHAPE]      = double(int(shape));\n",
        "    attribute[CENTER_X]   = x;\n",
        "    attribute[CENTER_Y]   = y;\n",
        "    attribute[THETA]      = theta;\n",
        "    attribute[MAJOR_DIAM] = major;\n",
        "    attribute[MINOR_DIAM] = minor;\n",
        "    for (const double& a : attribute) csvStream << a <<\",\";\n",
        "    csvStream << \"\\n\";\n",
        "\n",
        "    return 0;\n",
        "}\n",
        "\n",
        "\n",
        "int generateRandomShapes(const QString& pathName, const QString& imageFolderName, const QString& csvFileName,\n",
        "                         const std::size_t& seed, const std::size_t& n, const FillType& fillType)\n",
        "{\n",
        "    // Open the csv file and make the image directory so they is ready for appending a new lines and images for each generated shape\n",
        "    QDir imageDir( QDir::cleanPath(pathName + QDir::separator() + imageFolderName) );\n",
        "    if (!imageDir.exists()) QDir().mkpath(imageDir.absolutePath());\n",
        "    QFile csvFile( QDir::cleanPath(pathName + QDir::separator() + csvFileName) );\n",
        "    if (csvFile.open(QIODevice::Append)) {\n",
        "        std::cerr << \"CSV Output File opened successfully\\n\";\n",
        "    }\n",
        "    else {\n",
        "        std::cerr << \"CSV Output File could not be opened in append mode\\n\";\n",
        "        std::cerr << csvFile.errorString().toStdString();\n",
        "        return -1;\n",
        "    }\n",
        "\n",
        "    // Generate random shapes and parameters, then produce images with those shapes\n",
        "    srand(seed);\n",
        "    std::size_t index = 0;\n",
        "    while (index < n)\n",
        "    {\n",
        "        const ShapeCategory shape = ShapeCategory(rand() % 2);\n",
        "        const double x = X_SIZE * (0.5 + double(rand())) / double(RAND_MAX);\n",
        "        const double y = Y_SIZE * (0.5 + double(rand())) / double(RAND_MAX);\n",
        "        const double theta = 360.0 * (0.5 + double(rand())) / double(RAND_MAX) - 180.0;\n",
        "        const double major = X_SIZE * (0.5 + double(rand())) / double(RAND_MAX);\n",
        "        const double minor = Y_SIZE * (0.5 + double(rand())) / double(RAND_MAX);\n",
        "        if (major < minor) continue;    // Make sure the major axis is bigger than the minor axis since theta is defined as X to major\n",
        "        if (minor < 6.5) continue;      // Make sure the minor axis is at least 7 pixels\n",
        "        const std::array<double,4> distToEdges = {x, y, X_SIZE-x, Y_SIZE-y};\n",
        "        const double minDistToEdge = *std::min_element(distToEdges.begin(), distToEdges.end());\n",
        "        const int lineWidth = (fillType == FillType::SOLID ? 0 : 1 + rand() % 5);     // pick 1, 2, 3, 4, or 5\n",
        "        if (0.5 * sqrt(major * major + minor * minor) + 0.5 * double(lineWidth) + 1.0 >= minDistToEdge) continue;    // Make sure the entire shape is in the image - later bounding boxes will ensure this\n",
        "        const int result = generateShape(csvFile, imageDir, index, shape, x, y, theta, major, minor, fillType, lineWidth);\n",
        "        if (result < 0) continue;\n",
        "        index++;\n",
        "    }\n",
        "\n",
        "    csvFile.close();\n",
        "    return 0;\n",
        "}\n",
        "\n",
        "\n",
        "int main()\n",
        "{\n",
        "    generateRandomShapes(\"/home/shane/Documents/TensorFlow/ShapeGenerator/Output\", \"shapes-train-images\", \"shapes-train-labels.csv\", 1, 50000, FillType::SOLID);\n",
        "    generateRandomShapes(\"/home/shane/Documents/TensorFlow/ShapeGenerator/Output\", \"shapes-test-images\", \"shapes-test-labels.csv\", 2, 15000, FillType::SOLID);\n",
        "    generateRandomShapes(\"/home/shane/Documents/TensorFlow/ShapeGenerator/Output\", \"shapes-val-images\", \"shapes-val-labels.csv\", 3, 5000, FillType::SOLID);\n",
        "    return 0;\n",
        "}\n",
        "\"\"\"\n"
      ],
      "execution_count": null,
      "outputs": []
    },
    {
      "cell_type": "markdown",
      "metadata": {
        "id": "sc5hO8Eyzrsl",
        "colab_type": "text"
      },
      "source": [
        "STEP #2: LOAD DATASET - PART A\n",
        "> Run the following python script to load the dataset from your Google Drive.\n",
        "\n",
        "> After reading in, the dataset will be stored in a ShapeData class object name \"data\".  The rest of this session will reference the \"data\" object.  The important members of the ShapeData class are x_train, y_train, x_test, y_test, x_val, and y_val.  There are auxiliary members such as img_shape and img_size_flat, as well as auxiliary functions such as is_categorical(ov_index).  These will show up subsequent code blocks.\n",
        "\n"
      ]
    },
    {
      "cell_type": "code",
      "metadata": {
        "id": "vufhCFTe_xwY",
        "colab_type": "code",
        "colab": {
          "base_uri": "https://localhost:8080/",
          "height": 141
        },
        "outputId": "8215e243-7830-4903-dfd0-b2dcd8c3dc82"
      },
      "source": [
        "# Import matplotlib for plotting (inline, not a separate window)\n",
        "%matplotlib inline\n",
        "import matplotlib.pyplot as plt\n",
        "import matplotlib.image as mpimg\n",
        "\n",
        "# Import math and matrix libraries\n",
        "import math\n",
        "import numpy as np\n",
        "from sklearn.metrics import confusion_matrix\n",
        "\n",
        "# Import tensorflow and keras\n",
        "import tensorflow as tf\n",
        "from tensorflow.keras.models import Sequential\n",
        "from tensorflow.keras.layers import InputLayer, Input\n",
        "from tensorflow.keras.layers import Reshape, MaxPooling2D\n",
        "from tensorflow.keras.layers import Conv2D, Dense, Flatten\n",
        "from tensorflow.python.keras.models import Model\n",
        "print(\"Tensorflow Version: \",tf.__version__)    # Double-check the Tensorflow version\n",
        "\n",
        "# Import os and zip utility libraries\n",
        "import os\n",
        "import tarfile\n",
        "import ntpath\n",
        "from google.colab import files, drive\n",
        "\n",
        "# Filenames for the data-set\n",
        "filename_x_train = \"shapes-train-images.tar.gz\"\n",
        "filename_y_train = \"shapes-train-labels.csv\"\n",
        "filename_x_test  = \"shapes-test-images.tar.gz\"\n",
        "filename_y_test  = \"shapes-test-labels.csv\"\n",
        "filename_x_val   = \"shapes-val-images.tar.gz\"\n",
        "filename_y_val   = \"shapes-val-labels.csv\"\n",
        "\n",
        "# Ouput variable encoded as indices (same as data columns in the csv file)\n",
        "SHAPE      = 0\n",
        "CENTER_X   = 1\n",
        "CENTER_Y   = 2\n",
        "THETA      = 3\n",
        "MAJOR_DIAM = 4\n",
        "MINOR_DIAM = 5\n",
        "TOTAL_NUM_OUTPUTS = 6\n",
        "\n",
        "# Shapes encodes as integers\n",
        "RECTANGLE = 0\n",
        "ELLIPSE   = 1\n",
        "TOTAL_NUM_SHAPE_CLASSES = 2\n",
        "\n",
        "# Identify which variables are categorical\n",
        "def is_categorical(ov_index):    \n",
        "        return (ov_index == SHAPE)\n",
        "\n",
        "def num_classes(ov_index):\n",
        "    if ov_index == SHAPE:\n",
        "        return TOTAL_NUM_SHAPE_CLASSES\n",
        "    else:\n",
        "        return 0\n",
        "\n",
        "# Convert output variable index to variable name string\n",
        "def index_to_variable_name(ov_index):    \n",
        "    if ov_index == SHAPE:\n",
        "        return \"SHAPE\"\n",
        "    elif ov_index == CENTER_X:\n",
        "        return \"CENTER_X\"\n",
        "    elif ov_index == CENTER_Y:\n",
        "        return \"CENTER_Y\"\n",
        "    elif ov_index == THETA:\n",
        "        return \"THETA\"\n",
        "    elif ov_index == MAJOR_DIAM:\n",
        "        return \"MAJOR_DIAM\"\n",
        "    elif ov_index == MINOR_DIAM:\n",
        "        return \"MINOR_DIAM\"\n",
        "\n",
        "# Convert shape class integer to shape class name\n",
        "def int_to_shape(i, short = False):\n",
        "    if short:\n",
        "        if i == 0:\n",
        "            return \"Rec\"\n",
        "        elif i == 1:\n",
        "            return \"Ell\"\n",
        "    else:\n",
        "        if i == 0:\n",
        "            return \"RECTANGLE\"\n",
        "        elif i == 1:\n",
        "            return \"ELLIPSE\"\n",
        " \n",
        "# Convert one-hot encoding to class\n",
        "def onehot_to_class(y):\n",
        "    return np.argmax(y,axis=1)\n",
        "\n",
        "\n",
        "# Python class to hold the entire dataset (x images & y csv table + train, test & val)\n",
        "class ShapeData:\n",
        "\n",
        "    def load_x_images(self, targzfilename):\n",
        "        targzfilepath = os.path.join(self.data_dir, targzfilename)\n",
        "        tar = tarfile.open(targzfilepath, \"r:gz\")\n",
        "        png_members = []\n",
        "        for member in tar.getmembers():\n",
        "            if member.name.endswith(\".png\"):\n",
        "                png_members += [member]     #make sure the file really is a png file\n",
        "        self.num_images = len(png_members)\n",
        "        image = tar.extractfile(png_members[0])    #use the first image to dynamically grab the image size\n",
        "        img = mpimg.imread(image)\n",
        "        self.img_shape = (img.shape[0], img.shape[1], 1)\n",
        "        self.img_size_flat = self.img_shape[0] * self.img_shape[1]\n",
        "        self.img_size_max = max(self.img_shape[0], self.img_shape[1])\n",
        "        x = np.zeros( (self.num_images, self.img_size_flat), dtype=float)\n",
        "        for member in png_members:\n",
        "            index = int(ntpath.basename(member.name).replace(\"image\",\"\").replace(\".png\",\"\"))\n",
        "            image = tar.extractfile(member)\n",
        "            img = mpimg.imread(image)\n",
        "            img_mono = np.amax(img[:,:,0:3], axis=2)    #take the max of rbg, but chop off alpha first with 0:3\n",
        "            x[index,:] = img_mono.flatten()\n",
        "        tar.close()\n",
        "        return x\n",
        "\n",
        "    def load_y_labels(self, csvfilename):\n",
        "        fin = open(csvfilename, \"r\")\n",
        "        lines = fin.readlines()\n",
        "        fin.close()\n",
        "        num_images = len(lines)\n",
        "        y = TOTAL_NUM_OUTPUTS * [None]\n",
        "        for ov_index in range(0, TOTAL_NUM_OUTPUTS):\n",
        "            if is_categorical(ov_index):\n",
        "                y[ov_index] = np.zeros( (num_images, num_classes(ov_index)) )\n",
        "            else:\n",
        "                y[ov_index] = np.zeros( (num_images, 1) )\n",
        "        for i in range(num_images):\n",
        "            entries = lines[i].split(\",\")\n",
        "            shape_int = int(float(entries[SHAPE]) + 0.01)\n",
        "            y[SHAPE][i,0]    = 1.0 if shape_int == RECTANGLE else 0.0                   #One-hot encoding for rectangle\n",
        "            y[SHAPE][i,1]    = 1.0 if shape_int == ELLIPSE   else 0.0                   #One-hot encoding for ellipse\n",
        "            y[CENTER_X][i]   = float(entries[CENTER_X]) / float(self.img_size_max)      #Position of shape center x-coordinate\n",
        "            y[CENTER_Y][i]   = float(entries[CENTER_Y]) / float(self.img_size_max)      #Position of shape center y-coordinate\n",
        "            theta = float(entries[THETA])\n",
        "            if theta < 0.0:\n",
        "                theta = theta + 180.0    #make sure theta is in the 0-180 range\n",
        "            y[THETA][i]      = theta / 180.0                                            #Rotation Angle\n",
        "            y[MAJOR_DIAM][i] = float(entries[MAJOR_DIAM]) / float(self.img_size_max)    #Normalized major diameter\n",
        "            y[MINOR_DIAM][i] = float(entries[MINOR_DIAM]) / float(self.img_size_max)    #Normalized minor diameter\n",
        "        return y\n",
        "\n",
        "    def __init__(self, data_dir):\n",
        "        self.data_dir  = data_dir\n",
        "        self.x_train   = self.load_x_images(filename_x_train) / 255.0\n",
        "        self.y_train   = self.load_y_labels(filename_y_train)\n",
        "        self.num_train = self.x_train.shape[0]\n",
        "        self.x_test    = self.load_x_images(filename_x_test) / 255.0\n",
        "        self.y_test    = self.load_y_labels(filename_y_test)\n",
        "        self.num_test  = self.x_test.shape[0]\n",
        "        self.x_val     = self.load_x_images(filename_x_test) / 255.0\n",
        "        self.y_val     = self.load_y_labels(filename_y_test)\n",
        "        self.num_val   = self.x_val.shape[0]\n",
        "       \n",
        "    def random_batch(self, batch_size):\n",
        "        indices = np.random.randint(low=0, high=self.num_train, size=batch_size) \n",
        "        return self.x_train[indices], self.y_train[indices]\n",
        "\n",
        "drive.mount(\"/content/gdrive\")\n",
        "os.chdir(\"/content/gdrive/My Drive/Shapes_Dataset1\")\n",
        "data = ShapeData(\".\")"
      ],
      "execution_count": null,
      "outputs": [
        {
          "output_type": "stream",
          "text": [
            "Tensorflow Version:  2.2.0\n",
            "Go to this URL in a browser: https://accounts.google.com/o/oauth2/auth?client_id=947318989803-6bn6qk8qdgf4n4g3pfee6491hc0brc4i.apps.googleusercontent.com&redirect_uri=urn%3aietf%3awg%3aoauth%3a2.0%3aoob&response_type=code&scope=email%20https%3a%2f%2fwww.googleapis.com%2fauth%2fdocs.test%20https%3a%2f%2fwww.googleapis.com%2fauth%2fdrive%20https%3a%2f%2fwww.googleapis.com%2fauth%2fdrive.photos.readonly%20https%3a%2f%2fwww.googleapis.com%2fauth%2fpeopleapi.readonly\n",
            "\n",
            "Enter your authorization code:\n",
            "··········\n",
            "Mounted at /content/gdrive\n"
          ],
          "name": "stdout"
        }
      ]
    },
    {
      "cell_type": "markdown",
      "metadata": {
        "id": "hSYJHrNMtnm9",
        "colab_type": "text"
      },
      "source": [
        "STEP #2: DATASET LOADING - PART B\n",
        "> Plot a few images to make sure the data is correct.\n",
        "\n",
        "> It looks like the SHAPE labels came in correct.  Maybe later I will add plots for the continuous variables (CENTER_X, CENTER_Y, THETA, MAJOR_DIAM, and MINOR_DIAM) as well.\n",
        "\n",
        "\n"
      ]
    },
    {
      "cell_type": "code",
      "metadata": {
        "id": "65iFYs3Utd3U",
        "colab_type": "code",
        "colab": {
          "base_uri": "https://localhost:8080/",
          "height": 279
        },
        "outputId": "a7e58561-e631-44e7-de42-777c687b8da6"
      },
      "source": [
        "def plot_images(M, N, img_shape, images, class_true, class_pred=None):\n",
        "    assert len(images) == len(class_true)\n",
        "    fig, axes = plt.subplots(M, N)\n",
        "    fig.subplots_adjust(hspace=0.4, wspace=0.4)\n",
        "    for i, ax in enumerate(axes.flat):\n",
        "        ax.set_xticks([])\n",
        "        ax.set_yticks([])\n",
        "        if i >= min(M * N, len(images)):\n",
        "            break\n",
        "        ax.imshow(images[i].reshape(img_shape[0:2]), cmap='binary')\n",
        "        if class_pred is None:\n",
        "            xlabel = \"True: {0}\".format(int_to_shape(class_true[i], True))\n",
        "        else:\n",
        "            xlabel = \"True: {0}, Pred: {1}\".format(int_to_shape(class_true[i], True), int_to_shape(class_pred[i], True))\n",
        "        ax.set_xlabel(xlabel)\n",
        "    plt.show()\n",
        "\n",
        "print(\"#Rectangles, #Ellipses= \", np.sum(data.y_train[SHAPE], axis=0))\n",
        "plot_images(4, 4, data.img_shape, images=data.x_test, class_true=onehot_to_class(data.y_test[SHAPE]) )"
      ],
      "execution_count": null,
      "outputs": [
        {
          "output_type": "stream",
          "text": [
            "#Rectangles, #Ellipses=  [24860. 25140.]\n"
          ],
          "name": "stdout"
        },
        {
          "output_type": "display_data",
          "data": {
            "image/png": "[encoded data removed]",
            "text/plain": [
              "<Figure size 432x288 with 16 Axes>"
            ]
          },
          "metadata": {
            "tags": []
          }
        }
      ]
    },
    {
      "cell_type": "markdown",
      "metadata": {
        "id": "Wu2RijRzUTCb",
        "colab_type": "text"
      },
      "source": [
        "STEP #3: MODEL DEFINITION\n",
        "> Build the model layers using Keras functional API in Tensorflow2.  The functional API allows sharing the convolutional layers that extract feature descriptors from the image while at the same time splitting out the last few dense layers into parallel pipelines that predict the six output parameters (categorical SHAPE and continuous CENTER_X, CENTER_Y, THETA, MAJOR_DIAM & MINOR_DIAM).\n",
        "\n"
      ]
    },
    {
      "cell_type": "code",
      "metadata": {
        "id": "t2bb-itFvrZq",
        "colab_type": "code",
        "colab": {}
      },
      "source": [
        "# Create an input layer which is similar to a feed_dict in TensorFlow.\n",
        "# Note that the input-shape must be a tuple containing the image-size.\n",
        "inputs = Input(shape=(data.img_size_flat,))\n",
        "\n",
        "# Variable used for building the Neural Network.\n",
        "net = inputs\n",
        "\n",
        "# The input is an image as a flattened array with 784 elements.\n",
        "# But the convolutional layers expect images with shape (28, 28, 1)\n",
        "net = Reshape(data.img_shape)(net)\n",
        "\n",
        "# First convolutional layer with ReLU-activation and max-pooling.\n",
        "net = Conv2D(kernel_size=5, strides=1, filters=16, padding='same',\n",
        "             activation='relu', name='layer_conv1')(net)\n",
        "net = MaxPooling2D(pool_size=2, strides=2)(net)\n",
        "\n",
        "# Second convolutional layer with ReLU-activation and max-pooling.\n",
        "net = Conv2D(kernel_size=5, strides=1, filters=36, padding='same',\n",
        "             activation='relu', name='layer_conv2')(net)\n",
        "net = MaxPooling2D(pool_size=2, strides=2)(net)\n",
        "\n",
        "# Flatten the output of the conv-layer from 4-dim to 2-dim.\n",
        "net = Flatten()(net)\n",
        "\n",
        "# Split into several parallel layers for final classification (SHAPE) and regression (CENTER_X, MAJOR_DIAM, etc.)\n",
        "parallel = []\n",
        "for i in range(TOTAL_NUM_OUTPUTS):\n",
        "    if is_categorical(i):\n",
        "        parallel += [Dense(128, activation='relu')(net)]              # 1st fully-connected / dense layer with ReLU-activation.\n",
        "        parallel[-1] = tf.keras.layers.Dropout(0.5)(parallel[-1])     # Dropout layer to avoid overfitting\n",
        "        parallel[-1] = Dense(num_classes(i), activation='softmax', name=index_to_variable_name(i))(parallel[-1])\n",
        "    else:\n",
        "        parallel += [Dense(128, activation='relu')(net)]              # 1st fully-connected / dense layer with ReLU-activation.\n",
        "        parallel[-1] = tf.keras.layers.Dropout(0.5)(parallel[-1])     # Dropout layer to avoid overfitting\n",
        "        #parallel[-1] = Dense(128, activation='relu')(parallel[-1])    # 2nd fully-connected / dense layer with ReLU-activation.\n",
        "        #parallel[-1] = tf.keras.layers.Dropout(0.7)(parallel[-1])     # Dropout layer to avoid overfitting\n",
        "        parallel[-1] = Dense(1, activation='linear', name=index_to_variable_name(i))(parallel[-1])\n",
        "net = parallel\n",
        "\n",
        "outputs = net\n",
        "\n",
        "model = Model(inputs=inputs, outputs=outputs)"
      ],
      "execution_count": null,
      "outputs": []
    },
    {
      "cell_type": "markdown",
      "metadata": {
        "id": "EwXV15-awoq0",
        "colab_type": "text"
      },
      "source": [
        "STEP #4: TRAINING\n",
        "> Compile the model, fit it to the training data, and evaluate it on test data.\n",
        "\n"
      ]
    },
    {
      "cell_type": "code",
      "metadata": {
        "id": "HH7Mkl66wkjd",
        "colab_type": "code",
        "colab": {
          "base_uri": "https://localhost:8080/",
          "height": 801
        },
        "outputId": "d91ea0b5-dfa7-4e20-8e22-691f4f70720f"
      },
      "source": [
        "########## Settings that you can change ##########\n",
        "optimizer_type = \"ADAM\"  #\"ADAM\" or \"RMSPROP\"\n",
        "learning_rate  = 0.001\n",
        "num_epochs     = 15\n",
        "batch_size     = 128\n",
        "##################################################\n",
        "\n",
        "from tensorflow.keras.optimizers import Adam, RMSprop\n",
        "\n",
        "optimizer = None\n",
        "if optimizer_type == \"ADAM\":\n",
        "    optimizer = tf.keras.optimizers.Adam(learning_rate=learning_rate)\n",
        "elif optimizer_type == \"RMSPROP\":\n",
        "    optimizer = tf.keras.optimizers.RMSprop(learning_rate=learning_rate)\n",
        "\n",
        "losses = []\n",
        "loss_weights = []\n",
        "metrics = [tf.keras.metrics.MeanAbsoluteError()]\n",
        "for i in range(0, TOTAL_NUM_OUTPUTS):\n",
        "    if is_categorical(i):\n",
        "        losses += [tf.keras.losses.CategoricalCrossentropy()]\n",
        "        loss_weights += [1.0]\n",
        "    else:\n",
        "        losses += [tf.keras.losses.MeanAbsoluteError()]\n",
        "        loss_weights += [1.0]\n",
        "\n",
        "model.compile(optimizer=optimizer, loss=losses, loss_weights=loss_weights, metrics=metrics)\n",
        "\n",
        "model.fit(x=data.x_train, y=data.y_train, epochs=num_epochs, batch_size=batch_size)\n",
        "\n",
        "result = model.evaluate(x=data.x_test, y=data.y_test)\n",
        "for name, value in zip(model.metrics_names, result):\n",
        "    print(name, value)"
      ],
      "execution_count": null,
      "outputs": [
        {
          "output_type": "stream",
          "text": [
            "Epoch 1/15\n",
            "391/391 [==============================] - 5s 12ms/step - loss: 0.8361 - SHAPE_loss: 0.3770 - CENTER_X_loss: 0.0721 - CENTER_Y_loss: 0.0708 - THETA_loss: 0.1846 - MAJOR_DIAM_loss: 0.0815 - MINOR_DIAM_loss: 0.0501 - SHAPE_mean_absolute_error: 0.2727 - CENTER_X_mean_absolute_error: 0.0721 - CENTER_Y_mean_absolute_error: 0.0708 - THETA_mean_absolute_error: 0.1846 - MAJOR_DIAM_mean_absolute_error: 0.0815 - MINOR_DIAM_mean_absolute_error: 0.0501\n",
            "Epoch 2/15\n",
            "391/391 [==============================] - 5s 12ms/step - loss: 0.3300 - SHAPE_loss: 0.0330 - CENTER_X_loss: 0.0379 - CENTER_Y_loss: 0.0387 - THETA_loss: 0.1431 - MAJOR_DIAM_loss: 0.0491 - MINOR_DIAM_loss: 0.0282 - SHAPE_mean_absolute_error: 0.0239 - CENTER_X_mean_absolute_error: 0.0379 - CENTER_Y_mean_absolute_error: 0.0387 - THETA_mean_absolute_error: 0.1431 - MAJOR_DIAM_mean_absolute_error: 0.0491 - MINOR_DIAM_mean_absolute_error: 0.0282\n",
            "Epoch 3/15\n",
            "391/391 [==============================] - 5s 12ms/step - loss: 0.2543 - SHAPE_loss: 0.0084 - CENTER_X_loss: 0.0267 - CENTER_Y_loss: 0.0275 - THETA_loss: 0.1282 - MAJOR_DIAM_loss: 0.0391 - MINOR_DIAM_loss: 0.0244 - SHAPE_mean_absolute_error: 0.0067 - CENTER_X_mean_absolute_error: 0.0267 - CENTER_Y_mean_absolute_error: 0.0275 - THETA_mean_absolute_error: 0.1282 - MAJOR_DIAM_mean_absolute_error: 0.0391 - MINOR_DIAM_mean_absolute_error: 0.0244\n",
            "Epoch 4/15\n",
            "391/391 [==============================] - 5s 12ms/step - loss: 0.2287 - SHAPE_loss: 0.0048 - CENTER_X_loss: 0.0229 - CENTER_Y_loss: 0.0247 - THETA_loss: 0.1199 - MAJOR_DIAM_loss: 0.0344 - MINOR_DIAM_loss: 0.0220 - SHAPE_mean_absolute_error: 0.0038 - CENTER_X_mean_absolute_error: 0.0229 - CENTER_Y_mean_absolute_error: 0.0247 - THETA_mean_absolute_error: 0.1199 - MAJOR_DIAM_mean_absolute_error: 0.0344 - MINOR_DIAM_mean_absolute_error: 0.0220\n",
            "Epoch 5/15\n",
            "391/391 [==============================] - 5s 12ms/step - loss: 0.2162 - SHAPE_loss: 0.0044 - CENTER_X_loss: 0.0219 - CENTER_Y_loss: 0.0233 - THETA_loss: 0.1140 - MAJOR_DIAM_loss: 0.0320 - MINOR_DIAM_loss: 0.0206 - SHAPE_mean_absolute_error: 0.0034 - CENTER_X_mean_absolute_error: 0.0219 - CENTER_Y_mean_absolute_error: 0.0233 - THETA_mean_absolute_error: 0.1140 - MAJOR_DIAM_mean_absolute_error: 0.0320 - MINOR_DIAM_mean_absolute_error: 0.0206\n",
            "Epoch 6/15\n",
            "391/391 [==============================] - 5s 12ms/step - loss: 0.2060 - SHAPE_loss: 0.0020 - CENTER_X_loss: 0.0215 - CENTER_Y_loss: 0.0225 - THETA_loss: 0.1096 - MAJOR_DIAM_loss: 0.0303 - MINOR_DIAM_loss: 0.0200 - SHAPE_mean_absolute_error: 0.0017 - CENTER_X_mean_absolute_error: 0.0215 - CENTER_Y_mean_absolute_error: 0.0225 - THETA_mean_absolute_error: 0.1096 - MAJOR_DIAM_mean_absolute_error: 0.0303 - MINOR_DIAM_mean_absolute_error: 0.0200\n",
            "Epoch 7/15\n",
            "391/391 [==============================] - 5s 12ms/step - loss: 0.1996 - SHAPE_loss: 0.0019 - CENTER_X_loss: 0.0211 - CENTER_Y_loss: 0.0219 - THETA_loss: 0.1058 - MAJOR_DIAM_loss: 0.0296 - MINOR_DIAM_loss: 0.0193 - SHAPE_mean_absolute_error: 0.0016 - CENTER_X_mean_absolute_error: 0.0211 - CENTER_Y_mean_absolute_error: 0.0219 - THETA_mean_absolute_error: 0.1058 - MAJOR_DIAM_mean_absolute_error: 0.0296 - MINOR_DIAM_mean_absolute_error: 0.0193\n",
            "Epoch 8/15\n",
            "391/391 [==============================] - 5s 12ms/step - loss: 0.1981 - SHAPE_loss: 0.0036 - CENTER_X_loss: 0.0206 - CENTER_Y_loss: 0.0221 - THETA_loss: 0.1035 - MAJOR_DIAM_loss: 0.0292 - MINOR_DIAM_loss: 0.0191 - SHAPE_mean_absolute_error: 0.0024 - CENTER_X_mean_absolute_error: 0.0206 - CENTER_Y_mean_absolute_error: 0.0221 - THETA_mean_absolute_error: 0.1035 - MAJOR_DIAM_mean_absolute_error: 0.0292 - MINOR_DIAM_mean_absolute_error: 0.0191\n",
            "Epoch 9/15\n",
            "391/391 [==============================] - 5s 12ms/step - loss: 0.1904 - SHAPE_loss: 0.0018 - CENTER_X_loss: 0.0203 - CENTER_Y_loss: 0.0214 - THETA_loss: 0.1004 - MAJOR_DIAM_loss: 0.0279 - MINOR_DIAM_loss: 0.0186 - SHAPE_mean_absolute_error: 0.0013 - CENTER_X_mean_absolute_error: 0.0203 - CENTER_Y_mean_absolute_error: 0.0214 - THETA_mean_absolute_error: 0.1004 - MAJOR_DIAM_mean_absolute_error: 0.0279 - MINOR_DIAM_mean_absolute_error: 0.0186\n",
            "Epoch 10/15\n",
            "391/391 [==============================] - 5s 12ms/step - loss: 0.1861 - SHAPE_loss: 9.6111e-04 - CENTER_X_loss: 0.0198 - CENTER_Y_loss: 0.0212 - THETA_loss: 0.0982 - MAJOR_DIAM_loss: 0.0276 - MINOR_DIAM_loss: 0.0183 - SHAPE_mean_absolute_error: 7.6705e-04 - CENTER_X_mean_absolute_error: 0.0198 - CENTER_Y_mean_absolute_error: 0.0212 - THETA_mean_absolute_error: 0.0982 - MAJOR_DIAM_mean_absolute_error: 0.0276 - MINOR_DIAM_mean_absolute_error: 0.0183\n",
            "Epoch 11/15\n",
            "391/391 [==============================] - 5s 12ms/step - loss: 0.1914 - SHAPE_loss: 0.0073 - CENTER_X_loss: 0.0202 - CENTER_Y_loss: 0.0210 - THETA_loss: 0.0973 - MAJOR_DIAM_loss: 0.0276 - MINOR_DIAM_loss: 0.0180 - SHAPE_mean_absolute_error: 0.0030 - CENTER_X_mean_absolute_error: 0.0202 - CENTER_Y_mean_absolute_error: 0.0210 - THETA_mean_absolute_error: 0.0973 - MAJOR_DIAM_mean_absolute_error: 0.0276 - MINOR_DIAM_mean_absolute_error: 0.0180\n",
            "Epoch 12/15\n",
            "391/391 [==============================] - 5s 12ms/step - loss: 0.1790 - SHAPE_loss: 6.1918e-04 - CENTER_X_loss: 0.0195 - CENTER_Y_loss: 0.0206 - THETA_loss: 0.0943 - MAJOR_DIAM_loss: 0.0266 - MINOR_DIAM_loss: 0.0174 - SHAPE_mean_absolute_error: 5.7511e-04 - CENTER_X_mean_absolute_error: 0.0195 - CENTER_Y_mean_absolute_error: 0.0206 - THETA_mean_absolute_error: 0.0943 - MAJOR_DIAM_mean_absolute_error: 0.0266 - MINOR_DIAM_mean_absolute_error: 0.0174\n",
            "Epoch 13/15\n",
            "391/391 [==============================] - 5s 12ms/step - loss: 0.1752 - SHAPE_loss: 3.6355e-04 - CENTER_X_loss: 0.0191 - CENTER_Y_loss: 0.0205 - THETA_loss: 0.0919 - MAJOR_DIAM_loss: 0.0262 - MINOR_DIAM_loss: 0.0171 - SHAPE_mean_absolute_error: 3.4237e-04 - CENTER_X_mean_absolute_error: 0.0191 - CENTER_Y_mean_absolute_error: 0.0205 - THETA_mean_absolute_error: 0.0919 - MAJOR_DIAM_mean_absolute_error: 0.0262 - MINOR_DIAM_mean_absolute_error: 0.0171\n",
            "Epoch 14/15\n",
            "391/391 [==============================] - 5s 12ms/step - loss: 0.1758 - SHAPE_loss: 0.0027 - CENTER_X_loss: 0.0189 - CENTER_Y_loss: 0.0203 - THETA_loss: 0.0907 - MAJOR_DIAM_loss: 0.0263 - MINOR_DIAM_loss: 0.0171 - SHAPE_mean_absolute_error: 0.0014 - CENTER_X_mean_absolute_error: 0.0189 - CENTER_Y_mean_absolute_error: 0.0203 - THETA_mean_absolute_error: 0.0907 - MAJOR_DIAM_mean_absolute_error: 0.0263 - MINOR_DIAM_mean_absolute_error: 0.0171\n",
            "Epoch 15/15\n",
            "391/391 [==============================] - 5s 12ms/step - loss: 0.1729 - SHAPE_loss: 0.0011 - CENTER_X_loss: 0.0190 - CENTER_Y_loss: 0.0201 - THETA_loss: 0.0897 - MAJOR_DIAM_loss: 0.0260 - MINOR_DIAM_loss: 0.0171 - SHAPE_mean_absolute_error: 8.0855e-04 - CENTER_X_mean_absolute_error: 0.0190 - CENTER_Y_mean_absolute_error: 0.0201 - THETA_mean_absolute_error: 0.0897 - MAJOR_DIAM_mean_absolute_error: 0.0260 - MINOR_DIAM_mean_absolute_error: 0.0171\n",
            "469/469 [==============================] - 2s 5ms/step - loss: 0.1239 - SHAPE_loss: 0.0018 - CENTER_X_loss: 0.0086 - CENTER_Y_loss: 0.0075 - THETA_loss: 0.0774 - MAJOR_DIAM_loss: 0.0177 - MINOR_DIAM_loss: 0.0108 - SHAPE_mean_absolute_error: 8.5842e-04 - CENTER_X_mean_absolute_error: 0.0086 - CENTER_Y_mean_absolute_error: 0.0075 - THETA_mean_absolute_error: 0.0774 - MAJOR_DIAM_mean_absolute_error: 0.0177 - MINOR_DIAM_mean_absolute_error: 0.0108\n",
            "loss 0.12387815117835999\n",
            "SHAPE_loss 0.0018348104786127806\n",
            "CENTER_X_loss 0.008641359396278858\n",
            "CENTER_Y_loss 0.0074699255637824535\n",
            "THETA_loss 0.07742705196142197\n",
            "MAJOR_DIAM_loss 0.01770106330513954\n",
            "MINOR_DIAM_loss 0.010803984478116035\n",
            "SHAPE_mean_absolute_error 0.0008584221941418946\n",
            "CENTER_X_mean_absolute_error 0.008641359396278858\n",
            "CENTER_Y_mean_absolute_error 0.0074699255637824535\n",
            "THETA_mean_absolute_error 0.07742705196142197\n",
            "MAJOR_DIAM_mean_absolute_error 0.01770106330513954\n",
            "MINOR_DIAM_mean_absolute_error 0.010803984478116035\n"
          ],
          "name": "stdout"
        }
      ]
    },
    {
      "cell_type": "markdown",
      "metadata": {
        "id": "etozPXSQw-Uu",
        "colab_type": "text"
      },
      "source": [
        "STEP #5: DIAGNOSTICS - PART A\n",
        "> Print out the model predictions for the first 20 or 30 images and see if they look good.\n",
        "\n",
        "> It is good to print each parameter error with sign (+ or -).  Since the model is fit by minimizing mean absolute error loss, which is similar to median, we would like to see a similar number of positive errors and negative errors.  With just the first 20 image predictions printed, it looks like positive and negative errors are fairly balanced for all five continuous parameters (CENTER_X, CENTER_Y, THETA, MAJOR_DIAM, and MINOR_DIAM).  So it passes the quick visual check. \n",
        "\n",
        "\n",
        "\n"
      ]
    },
    {
      "cell_type": "code",
      "metadata": {
        "id": "E4WoSwm3EjpZ",
        "colab_type": "code",
        "colab": {
          "base_uri": "https://localhost:8080/",
          "height": 416
        },
        "outputId": "628f837a-9a4a-468a-c039-5b8c778434c6"
      },
      "source": [
        "FIRST_HOW_MANY = 20\n",
        "y_pred = model.predict(x=data.x_test)\n",
        "y_shape_class_pred = onehot_to_class(y_pred[SHAPE])\n",
        "y_shape_class_true = onehot_to_class(data.y_test[SHAPE])\n",
        "print(\" i |  SHAPE  |       CENTER_X       |       CENTER_Y       |        THETA         |      MAJOR_DIAM      |      MINOR_DIAM     \")\n",
        "print(\" i | Pre Tru |  Pred   True    Diff |  Pred   True    Diff |  Pred   True    Diff |  Pred   True    Diff |  Pred   True    Diff\")\n",
        "print(\"-------------------------------------------------------------------------------------------------------------------------------\")\n",
        "for i in range(0, FIRST_HOW_MANY):\n",
        "    print(\"{:2d} | {} {} | {:5.3f}, {:5.3f}, {:+5.3f} | {:5.3f}, {:5.3f}, {:+5.3f} | {:5.3f}, {:5.3f}, {:+5.3f} | {:5.3f}, {:5.3f}, {:+5.3f} | {:5.3f}, {:5.3f}, {:+5.3f}\".format( \n",
        "          i, int_to_shape(y_shape_class_pred[i],True), int_to_shape(y_shape_class_true[i],True), \n",
        "          y_pred[CENTER_X][i,0]  , data.y_test[CENTER_X][i,0]  , y_pred[CENTER_X][i,0]  -data.y_test[CENTER_X][i,0]  ,\n",
        "          y_pred[CENTER_Y][i,0]  , data.y_test[CENTER_Y][i,0]  , y_pred[CENTER_Y][i,0]  -data.y_test[CENTER_Y][i,0]  , \n",
        "          y_pred[THETA][i,0]     , data.y_test[THETA][i,0]     , y_pred[THETA][i,0]     -data.y_test[THETA][i,0]     ,\n",
        "          y_pred[MAJOR_DIAM][i,0], data.y_test[MAJOR_DIAM][i,0], y_pred[MAJOR_DIAM][i,0]-data.y_test[MAJOR_DIAM][i,0],\n",
        "          y_pred[MINOR_DIAM][i,0], data.y_test[MINOR_DIAM][i,0], y_pred[MINOR_DIAM][i,0]-data.y_test[MINOR_DIAM][i,0],\n",
        "    ))"
      ],
      "execution_count": null,
      "outputs": [
        {
          "output_type": "stream",
          "text": [
            " i |  SHAPE  |       CENTER_X       |       CENTER_Y       |        THETA         |      MAJOR_DIAM      |      MINOR_DIAM     \n",
            " i | Pre Tru |  Pred   True    Diff |  Pred   True    Diff |  Pred   True    Diff |  Pred   True    Diff |  Pred   True    Diff\n",
            "-------------------------------------------------------------------------------------------------------------------------------\n",
            " 0 | Rec Rec | 0.615, 0.625, -0.010 | 0.276, 0.269, +0.006 | 0.398, 0.486, -0.089 | 0.310, 0.268, +0.042 | 0.243, 0.260, -0.017\n",
            " 1 | Ell Ell | 0.688, 0.677, +0.011 | 0.674, 0.681, -0.007 | 0.226, 0.099, +0.127 | 0.240, 0.208, +0.032 | 0.146, 0.133, +0.012\n",
            " 2 | Ell Ell | 0.678, 0.685, -0.007 | 0.512, 0.509, +0.003 | 0.668, 0.697, -0.029 | 0.342, 0.361, -0.019 | 0.153, 0.131, +0.021\n",
            " 3 | Ell Ell | 0.313, 0.291, +0.022 | 0.460, 0.463, -0.003 | 0.566, 0.743, -0.177 | 0.257, 0.249, +0.008 | 0.226, 0.246, -0.020\n",
            " 4 | Ell Ell | 0.387, 0.399, -0.012 | 0.614, 0.617, -0.002 | 0.498, 0.507, -0.009 | 0.244, 0.257, -0.013 | 0.150, 0.140, +0.010\n",
            " 5 | Ell Ell | 0.506, 0.510, -0.004 | 0.520, 0.518, +0.002 | 0.410, 0.461, -0.052 | 0.654, 0.666, -0.012 | 0.428, 0.426, +0.001\n",
            " 6 | Rec Rec | 0.653, 0.647, +0.006 | 0.206, 0.199, +0.007 | 0.692, 0.766, -0.074 | 0.249, 0.239, +0.011 | 0.173, 0.171, +0.002\n",
            " 7 | Ell Ell | 0.411, 0.402, +0.008 | 0.455, 0.448, +0.006 | 0.302, 0.307, -0.005 | 0.157, 0.146, +0.011 | 0.143, 0.133, +0.010\n",
            " 8 | Ell Ell | 0.595, 0.588, +0.007 | 0.618, 0.622, -0.004 | 0.439, 0.451, -0.012 | 0.553, 0.595, -0.043 | 0.324, 0.313, +0.011\n",
            " 9 | Rec Rec | 0.389, 0.399, -0.011 | 0.672, 0.669, +0.003 | 0.609, 0.462, +0.147 | 0.405, 0.402, +0.003 | 0.332, 0.339, -0.007\n",
            "10 | Rec Rec | 0.527, 0.533, -0.006 | 0.461, 0.475, -0.014 | 0.061, 0.109, -0.048 | 0.766, 0.799, -0.032 | 0.401, 0.387, +0.015\n",
            "11 | Ell Ell | 0.634, 0.627, +0.007 | 0.538, 0.540, -0.003 | 0.142, 0.067, +0.075 | 0.495, 0.506, -0.011 | 0.344, 0.323, +0.021\n",
            "12 | Ell Ell | 0.409, 0.415, -0.006 | 0.563, 0.567, -0.004 | 0.585, 1.000, -0.415 | 0.510, 0.528, -0.018 | 0.436, 0.449, -0.013\n",
            "13 | Ell Ell | 0.539, 0.534, +0.005 | 0.536, 0.534, +0.002 | 0.412, 0.417, -0.004 | 0.485, 0.513, -0.028 | 0.195, 0.197, -0.002\n",
            "14 | Ell Ell | 0.654, 0.645, +0.009 | 0.515, 0.514, +0.001 | 0.643, 0.635, +0.007 | 0.564, 0.611, -0.047 | 0.142, 0.152, -0.009\n",
            "15 | Ell Ell | 0.540, 0.542, -0.002 | 0.622, 0.618, +0.004 | 0.389, 0.025, +0.364 | 0.461, 0.458, +0.002 | 0.406, 0.436, -0.030\n",
            "16 | Ell Ell | 0.493, 0.485, +0.008 | 0.719, 0.689, +0.030 | 0.106, 0.114, -0.008 | 0.386, 0.392, -0.006 | 0.232, 0.229, +0.003\n",
            "17 | Ell Ell | 0.348, 0.327, +0.021 | 0.405, 0.410, -0.005 | 0.565, 0.568, -0.003 | 0.221, 0.240, -0.018 | 0.161, 0.147, +0.014\n",
            "18 | Ell Ell | 0.431, 0.433, -0.002 | 0.700, 0.682, +0.018 | 0.301, 0.316, -0.015 | 0.391, 0.400, -0.010 | 0.327, 0.340, -0.013\n",
            "19 | Rec Rec | 0.291, 0.270, +0.020 | 0.573, 0.580, -0.008 | 0.255, 0.266, -0.011 | 0.293, 0.271, +0.022 | 0.177, 0.174, +0.002\n"
          ],
          "name": "stdout"
        }
      ]
    },
    {
      "cell_type": "markdown",
      "metadata": {
        "id": "TGrfSi9IV0VL",
        "colab_type": "text"
      },
      "source": [
        "STEP #5: DIAGNOSTICS - PART B\n",
        "> Use the fitted model to classify the first few images and see if the predictions are correct or not.\n",
        "\n"
      ]
    },
    {
      "cell_type": "code",
      "metadata": {
        "id": "sO9Mfk56VqpR",
        "colab_type": "code",
        "colab": {
          "base_uri": "https://localhost:8080/",
          "height": 279
        },
        "outputId": "f6ff4cbf-016f-4995-d8f5-f4a8ee3cbe34"
      },
      "source": [
        "y_shape_class_true = onehot_to_class(data.y_test[SHAPE])\n",
        "y_pred = model.predict(x=data.x_test)\n",
        "y_shape_class_pred = onehot_to_class(y_pred[SHAPE])\n",
        "print(\"#Rectangles, #Ellipses= \", sum(y_shape_class_pred==RECTANGLE), sum(y_shape_class_pred==ELLIPSE))\n",
        "plot_images(4, 3, data.img_shape, images=data.x_test, class_true=y_shape_class_true, class_pred=y_shape_class_pred)"
      ],
      "execution_count": null,
      "outputs": [
        {
          "output_type": "stream",
          "text": [
            "#Rectangles, #Ellipses=  7458 7542\n"
          ],
          "name": "stdout"
        },
        {
          "output_type": "display_data",
          "data": {
            "image/png": "[encoded data removed]",
            "text/plain": [
              "<Figure size 432x288 with 12 Axes>"
            ]
          },
          "metadata": {
            "tags": []
          }
        }
      ]
    },
    {
      "cell_type": "markdown",
      "metadata": {
        "id": "FAHsieJwWawg",
        "colab_type": "text"
      },
      "source": [
        "STEP #5: DIAGNOSTICS - PART C\n",
        "> Examine the first few classification errors.\n",
        "\n",
        "> The first thing to note is, there are only 9 misclassifications out of 15000.  So that is 99.94% accuracy, which is very high.\n",
        "\n",
        "> The C++ shape generator requires MINOR_DIAM > 7 pixels.  This was added because small dots would be hard to classify as either rectangle or ellipse.  Even so, I expect the harder cases to be 7-10 pixel by 7-10 pixels.  That is true from 6 out of the 9 misclassifications below.\n",
        "\n",
        "> However, there is another problem too.  Three out of the 9 misclassifications are sizeable shapes.  Their CENTER_X, CENTER_Y, THETA, MAJOR_DIAM, and MINOR_DIAM parameters are all real number (floats).  When QImage pixelates them, it seems to chop the corners off for particular parameter combinations.  So the rectangles end up with rounded corners and are easy to misclassify as ellipses. \n",
        "\n",
        "\n",
        "\n",
        "\n",
        "\n"
      ]
    },
    {
      "cell_type": "code",
      "metadata": {
        "id": "rlzikRhcWdqF",
        "colab_type": "code",
        "colab": {
          "base_uri": "https://localhost:8080/",
          "height": 279
        },
        "outputId": "7062c8cd-03fe-43ec-8011-e00f07c750a0"
      },
      "source": [
        "def plot_example_errors(M, N, img_shape, y_pred, ov_index):\n",
        "    class_pred = onehot_to_class(y_pred[ov_index])\n",
        "    incorrect = (class_pred != onehot_to_class(data.y_test[ov_index]))          # Boolean array whether the predicted class is incorrect.\n",
        "    images_incorrect = data.x_test[incorrect]                                # Get the images from the test-set that have been incorrectly classified.\n",
        "    print(\"#Incorrect= \", len(images_incorrect))                                       # Get the predicted classes for those images.\n",
        "    clas_prec_incorrect  = class_pred[incorrect]                             # Get the true classes for those images.\n",
        "    class_true_incorrect = onehot_to_class(data.y_test[ov_index][incorrect])    # Get the true classes for those images.\n",
        "    plot_images(M, N, img_shape=img_shape, images=images_incorrect, class_true=class_true_incorrect, class_pred=clas_prec_incorrect)\n",
        "\n",
        "y_pred = model.predict(x=data.x_test)\n",
        "plot_example_errors(3, 3, data.img_shape, y_pred, SHAPE)"
      ],
      "execution_count": null,
      "outputs": [
        {
          "output_type": "stream",
          "text": [
            "#Incorrect=  10\n"
          ],
          "name": "stdout"
        },
        {
          "output_type": "display_data",
          "data": {
            "image/png": "[encoded data removed]",
            "text/plain": [
              "<Figure size 432x288 with 9 Axes>"
            ]
          },
          "metadata": {
            "tags": []
          }
        }
      ]
    },
    {
      "cell_type": "markdown",
      "metadata": {
        "id": "G6Yd3j7iUb9Q",
        "colab_type": "text"
      },
      "source": [
        "STEP #5: DIAGNOSTICS - PART D\n",
        "> Examine the confusion matrix to see what kinds of classification errors are common.\n",
        "\n",
        "> For this particular fit, all 9 misclassifications are true rectangles that were erroneously classified as ellipses.  I have noticed that changing the model, number of epochs, or learning rate can cause all misclassifications to be of the other type.  I am not experienced with deep learning to know this for sure.  But it seems that for classification models with very high accuracy, it might be hard to make the predictions unbiased.\n",
        "\n"
      ]
    },
    {
      "cell_type": "code",
      "metadata": {
        "id": "WG3O3sZ_yAAI",
        "colab_type": "code",
        "colab": {
          "base_uri": "https://localhost:8080/",
          "height": 342
        },
        "outputId": "0b887704-5a26-4fa6-8e1f-ac95e843955c"
      },
      "source": [
        "def print_confusion_matrix(ov_index):\n",
        "    class_true = onehot_to_class(data.y_test[ov_index])\n",
        "    y_pred = model.predict(x=data.x_test)\n",
        "    class_pred = onehot_to_class(y_pred[ov_index])\n",
        "    cm = confusion_matrix(y_true=class_true, y_pred=class_pred)    # Get the confusion matrix using sklearn.\n",
        "    print(cm)                                                      # Print the confusion matrix as text.\n",
        "    plt.imshow(cm, interpolation='nearest', cmap=plt.cm.Blues)     # Plot the confusion matrix as an image.\n",
        "    plt.tight_layout()\n",
        "    plt.colorbar()\n",
        "    tick_marks = np.arange(num_classes(ov_index))\n",
        "    plt.xticks(tick_marks, range(num_classes(ov_index)))\n",
        "    plt.yticks(tick_marks, range(num_classes(ov_index)))\n",
        "    plt.xlabel('Predicted')\n",
        "    plt.ylabel('True')\n",
        "    plt.show()\n",
        "\n",
        "print_confusion_matrix(SHAPE)"
      ],
      "execution_count": null,
      "outputs": [
        {
          "output_type": "stream",
          "text": [
            "[[7458   10]\n",
            " [   0 7532]]\n"
          ],
          "name": "stdout"
        },
        {
          "output_type": "display_data",
          "data": {
            "image/png": "[encoded data removed]",
            "text/plain": [
              "<Figure size 432x288 with 2 Axes>"
            ]
          },
          "metadata": {
            "tags": [],
            "needs_background": "light"
          }
        }
      ]
    },
    {
      "cell_type": "markdown",
      "metadata": {
        "id": "fQtoxnPVu5bo",
        "colab_type": "text"
      },
      "source": [
        "STEP #5: DIAGNOSTICS - PART E\n",
        "> For all the continuous (non-categorical) parameters, plot the true parameters on the x-axis and predicted parameters on the y-axis.  \n",
        "\n",
        "> The current results show that CENTER_X and CENTER_Y are fit to sub-pixel accuracy, which is good.  The mean absolute error is about 0.007, which is one-third the pixel size of 0.02.\n",
        "\n",
        "> MAJOR_DIAM and MINOR_DIAM have mean absolute error around 0.02 or 1 pixel accuracy.  It should be possible to build a better network and achieve a closer fit. As I learn more about neural network architecture, I will come back and give this a try.\n",
        "\n",
        "> The THETA parameter is not fitting well at all.  This warrants further investigation in PART F below.\n",
        "\n",
        "\n",
        "\n"
      ]
    },
    {
      "cell_type": "code",
      "metadata": {
        "id": "iPsYAGfOu53q",
        "colab_type": "code",
        "colab": {
          "base_uri": "https://localhost:8080/",
          "height": 263
        },
        "outputId": "0f1c97ad-ebe6-4737-e282-d17cb389fd65"
      },
      "source": [
        "def plot_parameter_fitting(M, N, y_true, y_pred, labeling=[], colorPoint='r', s=0.0002, colorLine='b', linewidth=0.5):\n",
        "    fig, axes = plt.subplots(M, N)\n",
        "    fig.subplots_adjust(hspace=0.3, wspace=0.3)\n",
        "    for i, ax in enumerate(axes.flat):\n",
        "        ax.set_xticks([])\n",
        "        ax.set_yticks([])\n",
        "        if i >= M * N:\n",
        "            break\n",
        "        if labeling == [] and is_categorical(i):\n",
        "            continue\n",
        "        elif labeling != [] and i >= len(y_true):\n",
        "            break\n",
        "        ax.scatter(y_true[i], y_pred[i], color=colorPoint, s=s)\n",
        "        x = np.linspace(0, 1, 2)\n",
        "        ax.plot(x, x, color=colorLine, linewidth=linewidth)\n",
        "        if labeling == []:\n",
        "            ax.set_xlabel(index_to_variable_name(i))\n",
        "        else:\n",
        "            ax.set_xlabel(str(labeling[i]))\n",
        "        ax.set_xlim([0, 1])\n",
        "        ax.set_ylim([0, 1])\n",
        "    plt.show()\n",
        "\n",
        "y_pred = model.predict(x=data.x_test)\n",
        "plot_parameter_fitting(2, 3, data.y_test, y_pred)\n"
      ],
      "execution_count": null,
      "outputs": [
        {
          "output_type": "display_data",
          "data": {
            "image/png": "[encoded data removed]",
            "text/plain": [
              "<Figure size 432x288 with 6 Axes>"
            ]
          },
          "metadata": {
            "tags": []
          }
        }
      ]
    },
    {
      "cell_type": "markdown",
      "metadata": {
        "id": "Bos1SWktf8Ii",
        "colab_type": "text"
      },
      "source": [
        "STEP #5: DIAGNOSTICS - PART F\n",
        "> Plot theta curve omitting cases where MAJOR_DIAM - MINOR_DIAM < THRESHOLD.  This will help to see if the poor fit for THETA is caused by ellipses that are nearly circular.  In that case THETA would be hard for the model to predict.\n",
        "\n",
        "> No matter what THRESHOLD is chosen, the result is the similar.  Near THETA=0 and THETA=180, there is a lot of error.  In the middle region (30<THETA<150), there is more error with THRESHOLD=0.01 than THRESHOLD = 0.08.  So nearly circular ellipses do present a minor problem.  But there is clearly a more insidious problem at work.\n",
        "\n",
        "> The more insidious problem is the nature of THETA.  It belongs to circle group C1 where 0 degrees and 180 degrees are really equal!  This makes it difficult for the model, which is fitted using mean absolute error loss, to predict good estimates near 0 and 180 degrees.  A note about THETA: in general, THETA ranges from -180 to +180 degrees.  In this case, rectangles and ellipses have radial symmetry with n=2.  At read-in time, 180 was added to all negative angles to make them positive.\n",
        "\n",
        "> If true THETA were 1 degree and the predicted THETA was 179 degrees, the error would look large, but it would be acceptable.  However, the plot shows that when true THETA is 1 degree, the predicted THETA values are all over the place.  This is poor model performance.  \n",
        "\n",
        "> I would like to find a strategy for working with variables on circular groups.  There are two possibilities.\n",
        "1.   Find a deep learning architecture that respects variables with domains over the circular group.\n",
        "2.   Find an input transform.  For example, one could replace one variable THETA with two variables cos(THETA) and sin(THETA).  This one seems like the more expedient solution.\n",
        "\n",
        "\n",
        "\n",
        "\n",
        "\n",
        "\n",
        "\n",
        "\n",
        "\n"
      ]
    },
    {
      "cell_type": "code",
      "metadata": {
        "id": "g7geTvkdgMvj",
        "colab_type": "code",
        "colab": {
          "base_uri": "https://localhost:8080/",
          "height": 262
        },
        "outputId": "c9ac85d2-9b19-4925-fe04-eb242e083e42"
      },
      "source": [
        "y_pred = model.predict(x=data.x_test)\n",
        "y_test_some = []\n",
        "y_pred_some = []\n",
        "threshold_levels = [0.01, 0.02, 0.04, 0.08, 0.16, 0.32]\n",
        "for threshold in threshold_levels:\n",
        "    indices = data.y_test[MAJOR_DIAM] - data.y_test[MINOR_DIAM] > threshold\n",
        "    y_test_some += [data.y_test[THETA][indices]]\n",
        "    y_pred_some += [y_pred[THETA][indices]]\n",
        "plot_parameter_fitting(2, 3, y_test_some, y_pred_some, threshold_levels)"
      ],
      "execution_count": null,
      "outputs": [
        {
          "output_type": "display_data",
          "data": {
            "image/png": "[encoded data removed]",
            "text/plain": [
              "<Figure size 432x288 with 6 Axes>"
            ]
          },
          "metadata": {
            "tags": []
          }
        }
      ]
    }
  ]
}